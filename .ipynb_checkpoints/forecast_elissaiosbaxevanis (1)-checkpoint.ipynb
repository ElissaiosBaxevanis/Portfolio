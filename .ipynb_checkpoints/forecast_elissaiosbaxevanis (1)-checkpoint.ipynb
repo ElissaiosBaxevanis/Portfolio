{
 "cells": [
  {
   "cell_type": "code",
   "execution_count": null,
   "id": "93081a81-3f6c-4ba3-990e-8050d694eb31",
   "metadata": {},
   "outputs": [],
   "source": [
    "#basic imports\n",
    "import pandas as pd\n",
    "pd.options.display.max_rows = 100\n",
    "import numpy as np\n",
    "import seaborn as sns\n",
    "import os\n",
    "import matplotlib.pyplot as plt"
   ]
  },
  {
   "cell_type": "code",
   "execution_count": null,
   "id": "9b687f6e-75c0-42ba-9219-c5d1dc4a5184",
   "metadata": {},
   "outputs": [],
   "source": [
    "#load and inspect the dataset\n",
    "data = pd.read_csv('car_data_cleaned.csv',header=0,index_col=0)\n",
    "data.head()"
   ]
  },
  {
   "cell_type": "code",
   "execution_count": null,
   "id": "241d40b4-f127-4119-b36b-d4e8c1309443",
   "metadata": {},
   "outputs": [],
   "source": [
    "data.describe() #statistics of data"
   ]
  },
  {
   "cell_type": "code",
   "execution_count": null,
   "id": "e7075855-7e18-442b-964a-0801c6bf9dbc",
   "metadata": {},
   "outputs": [],
   "source": [
    "data.isnull().sum() #check for missing/NaN values"
   ]
  },
  {
   "cell_type": "code",
   "execution_count": null,
   "id": "0e2fefea-ef46-4df8-8db9-13a16ae921fc",
   "metadata": {},
   "outputs": [],
   "source": [
    "data = data[pd.notna(data.MSRP)] #drop records we do not have MSRP"
   ]
  },
  {
   "cell_type": "code",
   "execution_count": null,
   "id": "25d49c3a-8af4-42e8-b825-30d16657eed6",
   "metadata": {},
   "outputs": [],
   "source": [
    "#find the brand of each car\n",
    "data['brand'] = data.Car_Make_Model_Style.apply(lambda x: x.split()[1])\n",
    "data = data.drop(columns=['Car_Make_Model_Style','Style Name']) #drop columns which we have directly\n",
    "data.head()"
   ]
  },
  {
   "cell_type": "code",
   "execution_count": null,
   "id": "bb9765ff-befe-4ee5-8dd0-f7151d9bb935",
   "metadata": {},
   "outputs": [],
   "source": [
    "#check each column for missing values\n",
    "data.isnull().sum()"
   ]
  },
  {
   "cell_type": "code",
   "execution_count": null,
   "id": "e6903f88-ff3d-48c9-a5a8-f241f9e7e325",
   "metadata": {},
   "outputs": [],
   "source": [
    "#drop columns with missing data\n",
    "data = data.dropna(axis=1)\n",
    "#cross-check each column for missing values \n",
    "data.isnull().sum()"
   ]
  },
  {
   "cell_type": "code",
   "execution_count": null,
   "id": "e1eb8fd3-ccaf-4e75-9547-f15065f5db87",
   "metadata": {},
   "outputs": [],
   "source": [
    "data.dtypes #check data type of each variable"
   ]
  },
  {
   "cell_type": "code",
   "execution_count": null,
   "id": "e0256695-918c-4736-b814-1e7135bc3fd0",
   "metadata": {},
   "outputs": [],
   "source": [
    "catdata = data.select_dtypes(include='object') #select object dtypes to transform them in numerical values\n",
    "numdata = data.select_dtypes(include=['int64','float64']) #select numerical data"
   ]
  },
  {
   "cell_type": "code",
   "execution_count": null,
   "id": "ca2683cf-73d0-4181-a858-9bb5fd932c23",
   "metadata": {},
   "outputs": [],
   "source": [
    "from sklearn import preprocessing\n",
    "enc = preprocessing.LabelEncoder() #label encoder\n",
    "catdata_num = catdata.apply(lambda x: enc.fit_transform(x)) #fit and transform categorical data into numerical\n",
    "catdata_num.head()"
   ]
  },
  {
   "cell_type": "code",
   "execution_count": null,
   "id": "2e76108c-1b80-440d-8575-87f0a75f4128",
   "metadata": {},
   "outputs": [],
   "source": [
    "new_data = pd.concat([numdata, catdata_num],axis=1) #create new dataframe with numerical values only\n",
    "new_data.head()"
   ]
  },
  {
   "cell_type": "code",
   "execution_count": null,
   "id": "ad48363b-2136-4623-8423-604a46d0a62d",
   "metadata": {},
   "outputs": [],
   "source": [
    "#find correlations\n",
    "cor = new_data.corr()\n",
    "fig = plt.figure(figsize=(24,12))\n",
    "# heatmap\n",
    "sns.heatmap(cor, cmap=\"YlGnBu\", annot=True)\n",
    "plt.show()"
   ]
  },
  {
   "cell_type": "markdown",
   "id": "511177a7-44d3-49dd-a8dd-fe33558e73b8",
   "metadata": {},
   "source": [
    "Positive correlation 0.4-0.6: price with Basic Miles/Km, Rear Wheel Size, Fron Wheel Size\n",
    "\n",
    "Weak positive correlation 0.2-0.4: price with Drivetrain Miles/Km,Night Vision, Rollover protection bars, Parking aid\n",
    "\n",
    "Weak negative correlation -0.4 - -0.2:  Drivetrain Years, airbag side head front, airbag side head rear\n",
    "\n",
    "The above are the features that influence the price of cars mostly"
   ]
  },
  {
   "cell_type": "code",
   "execution_count": null,
   "id": "6b0b6660-e928-4928-8a8d-d140bc9cc477",
   "metadata": {},
   "outputs": [],
   "source": [
    "#keep variables that influence price the most (based on the correlations shown above)\n",
    "filtered_data = data[['MSRP','Basic Miles/km','Rear Wheel Size','Front Wheel Size','Drivetrain Miles/km',\n",
    "                    'Night Vision','Rollover Protection Bars', 'Parking Aid','Drivetrain Years',\n",
    "                    'Air Bag-Side Head-Front', 'Air Bag-Side Head-Rear']]\n",
    "filtered_data.head() #inspect filtered dataset"
   ]
  },
  {
   "cell_type": "code",
   "execution_count": null,
   "id": "91c43cf9-773d-4275-94a3-44003a2d230e",
   "metadata": {},
   "outputs": [],
   "source": [
    "filtered_data.describe() #get statistics of numerical variables in the filtered dataset"
   ]
  },
  {
   "cell_type": "code",
   "execution_count": null,
   "id": "95ca07fd-03fb-4302-a417-3feb72fcc3f8",
   "metadata": {},
   "outputs": [],
   "source": [
    "print('Night Vision counts: ', filtered_data['Night Vision'].value_counts())\n",
    "print('Rollover Protection Bars counts: ', filtered_data['Rollover Protection Bars'].value_counts())\n",
    "print('Parking Aid counts: ', filtered_data['Parking Aid'].value_counts())\n",
    "print('Air Bag-Side Head-Front counts: ', filtered_data['Air Bag-Side Head-Front'].value_counts())\n",
    "print('Air Bag-Side Head-Rear counts: ', filtered_data['Air Bag-Side Head-Rear'].value_counts())"
   ]
  },
  {
   "cell_type": "markdown",
   "id": "02b6d069-21a3-465c-bba5-4e0c70962b13",
   "metadata": {},
   "source": [
    "### Analyze MSRP based on the above features"
   ]
  },
  {
   "cell_type": "markdown",
   "id": "3fb0fe74-7862-4cef-acc8-82cb72f95cba",
   "metadata": {},
   "source": [
    "#### Cars that belong to the following category are clearly undervalued as all their features belong either to fourth corresponding quantile and they have at least one of the cagegorical feature "
   ]
  },
  {
   "cell_type": "code",
   "execution_count": null,
   "id": "5506ed98-8f93-4945-b894-b8b1d7222e0b",
   "metadata": {},
   "outputs": [],
   "source": [
    "#cars meeting the following criteria are clearly overvalued\n",
    "undervalued = filtered_data[(filtered_data.MSRP < filtered_data.MSRP.mean()) & \n",
    "                            (filtered_data['Basic Miles/km'] > 50000) &\n",
    "                            (filtered_data['Rear Wheel Size'] > 19) & \n",
    "                            (filtered_data['Front Wheel Size'] > 19) & \n",
    "                            (filtered_data['Drivetrain Miles/km'] > 70000) &\n",
    "                            (filtered_data['Drivetrain Years'] > 5 ) & \n",
    "                            ((filtered_data['Parking Aid']=='Yes') |\n",
    "                            (filtered_data['Rollover Protection Bars']=='Yes')  |\n",
    "                            (filtered_data['Night Vision'] == 'Yes') |\n",
    "                            (filtered_data['Air Bag-Side Head-Front'] == 'Yes') |\n",
    "                            (filtered_data['Air Bag-Side Head-Rear'] == 'Yes'))].sort_values(by='MSRP',ascending=False)\n",
    "undervalued"
   ]
  },
  {
   "cell_type": "markdown",
   "id": "8a607f73-4f32-47c6-903c-51d67f4a4589",
   "metadata": {},
   "source": [
    "#### Cars that belong to the following category are clearly overvalued as all their features belong either to 1st corresponding quantile or they do not have the cagegorical feature"
   ]
  },
  {
   "cell_type": "code",
   "execution_count": null,
   "id": "964e357a-2dd3-4cbd-a26e-125a957ba508",
   "metadata": {},
   "outputs": [],
   "source": [
    "#cars meeting the following criteria are clearly undervalued\n",
    "overvalued = filtered_data[(filtered_data.MSRP > filtered_data.MSRP.mean()) & \n",
    "                           (filtered_data['Basic Miles/km'] < 50000) & \n",
    "                           (filtered_data['Rear Wheel Size'] < 17) &\n",
    "                           (filtered_data['Front Wheel Size'] < 17) & \n",
    "                           (filtered_data['Drivetrain Miles/km'] < 60000) & \n",
    "                           (filtered_data['Drivetrain Years'] < 5 ) & \n",
    "                           (filtered_data['Parking Aid']=='No') & \n",
    "                           (filtered_data['Rollover Protection Bars']=='No') &\n",
    "                           (filtered_data['Night Vision'] == 'No') &\n",
    "                           (filtered_data['Air Bag-Side Head-Front'] == 'No') &\n",
    "                           (filtered_data['Air Bag-Side Head-Rear'] == 'No')\n",
    "                          ].sort_values(by='MSRP',ascending=False)\n",
    "overvalued"
   ]
  },
  {
   "cell_type": "code",
   "execution_count": null,
   "id": "51d60246-066f-4770-84c9-45355613c965",
   "metadata": {},
   "outputs": [],
   "source": [
    "#undervalued cars\n",
    "data_uv = data[data.index.isin(undervalued.index)]\n",
    "data_uv"
   ]
  },
  {
   "cell_type": "code",
   "execution_count": null,
   "id": "180850af-103a-4c24-8a3f-b556bbb5b351",
   "metadata": {},
   "outputs": [],
   "source": [
    "#overvalued cars\n",
    "data_ov = data[data.index.isin(overvalued.index)]\n",
    "data_ov"
   ]
  },
  {
   "cell_type": "code",
   "execution_count": null,
   "id": "176a9209-13ef-47eb-b14f-46f12e3b4597",
   "metadata": {},
   "outputs": [],
   "source": []
  }
 ],
 "metadata": {
  "kernelspec": {
   "display_name": "Python 3",
   "language": "python",
   "name": "python3"
  },
  "language_info": {
   "codemirror_mode": {
    "name": "ipython",
    "version": 3
   },
   "file_extension": ".py",
   "mimetype": "text/x-python",
   "name": "python",
   "nbconvert_exporter": "python",
   "pygments_lexer": "ipython3",
   "version": "3.8.10"
  }
 },
 "nbformat": 4,
 "nbformat_minor": 5
}
